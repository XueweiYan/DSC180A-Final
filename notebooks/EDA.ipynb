{
 "cells": [
  {
   "cell_type": "code",
   "execution_count": 1,
   "id": "2858b0f8",
   "metadata": {},
   "outputs": [],
   "source": [
    "import pandas as pd\n",
    "import numpy as np\n",
    "from termcolor import colored\n",
    "import matplotlib.pyplot as plt\n",
    "import re"
   ]
  },
  {
   "cell_type": "markdown",
   "id": "9e366d87",
   "metadata": {},
   "source": [
    "## Segmentation Results"
   ]
  },
  {
   "cell_type": "code",
   "execution_count": 2,
   "id": "6695bfc7",
   "metadata": {},
   "outputs": [],
   "source": [
    "def highlight_phrases(text):\n",
    "    ret = []\n",
    "    bracket_match = 0\n",
    "    for ch in text:\n",
    "        if ch == '<' or ch =='>':\n",
    "            bracket_match = (bracket_match + 1) % 4\n",
    "        elif bracket_match == 0:\n",
    "            ret.append(ch)\n",
    "        elif bracket_match == 2:\n",
    "            ret.append(colored(ch, 'yellow', 'on_red'))\n",
    "    return \"\".join(ret)"
   ]
  },
  {
   "cell_type": "code",
   "execution_count": 3,
   "id": "9f6001f6",
   "metadata": {},
   "outputs": [],
   "source": [
    "def visualize_phrases(length=30):\n",
    "    file = \"../results/segmentation.txt\"\n",
    "    with open(file) as f:\n",
    "        txt = f.readlines()\n",
    "    for i in range(length):\n",
    "        print(highlight_phrases(txt[i]))"
   ]
  },
  {
   "cell_type": "code",
   "execution_count": 4,
   "id": "67814b0c",
   "metadata": {
    "scrolled": true
   },
   "outputs": [
    {
     "name": "stdout",
     "output_type": "stream",
     "text": [
      "\u001b[41m\u001b[33mO\u001b[0m\u001b[41m\u001b[33mQ\u001b[0m\u001b[41m\u001b[33mL\u001b[0m[\u001b[41m\u001b[33mC\u001b[0m\u001b[41m\u001b[33m+\u001b[0m\u001b[41m\u001b[33m+\u001b[0m]: \u001b[41m\u001b[33mE\u001b[0m\u001b[41m\u001b[33mx\u001b[0m\u001b[41m\u001b[33mt\u001b[0m\u001b[41m\u001b[33me\u001b[0m\u001b[41m\u001b[33mn\u001b[0m\u001b[41m\u001b[33md\u001b[0m\u001b[41m\u001b[33mi\u001b[0m\u001b[41m\u001b[33mn\u001b[0m\u001b[41m\u001b[33mg\u001b[0m \u001b[41m\u001b[33mC\u001b[0m\u001b[41m\u001b[33m+\u001b[0m\u001b[41m\u001b[33m+\u001b[0m with an Object Query Capability.\n",
      "\n"
     ]
    }
   ],
   "source": [
    "visualize_phrases(1)"
   ]
  },
  {
   "cell_type": "markdown",
   "id": "e1af6ad5",
   "metadata": {},
   "source": [
    "## Unigram vs Multi-word"
   ]
  },
  {
   "cell_type": "code",
   "execution_count": 5,
   "id": "1df6a2d0",
   "metadata": {},
   "outputs": [],
   "source": [
    "# Read in files\n",
    "unigram_file = '../results/AutoPhrase_single-word.txt'\n",
    "with open(unigram_file) as f:\n",
    "        unigram_txt = f.readlines()\n",
    "multiword_file = '../results/AutoPhrase_multi-words.txt'\n",
    "with open(multiword_file) as f:\n",
    "        multiword_txt = f.readlines()"
   ]
  },
  {
   "cell_type": "code",
   "execution_count": 6,
   "id": "756ce0d1",
   "metadata": {},
   "outputs": [],
   "source": [
    "unigram_score = [float(x.split()[0]) for x in unigram_txt]\n",
    "multiword_score = [float(x.split()[0]) for x in multiword_txt]"
   ]
  },
  {
   "cell_type": "code",
   "execution_count": 7,
   "id": "51d466b5",
   "metadata": {},
   "outputs": [
    {
     "data": {
      "image/png": "[encoded data removed]",
      "text/plain": [
       "<Figure size 432x288 with 1 Axes>"
      ]
     },
     "metadata": {
      "needs_background": "light"
     },
     "output_type": "display_data"
    }
   ],
   "source": [
    "bins = np.linspace(0.0, 1.0, 20)\n",
    "figure = plt.figure()\n",
    "plt.hist(unigram_score, bins, alpha=0.5, label='single word', density=True)\n",
    "plt.hist(multiword_score, bins, alpha=0.5, label='multi words', density=True)\n",
    "plt.legend(loc='upper right')\n",
    "plt.title('Score Disribution of Phrases Detected (Normalized)')\n",
    "plt.xlabel('score')\n",
    "plt.ylabel('density')\n",
    "plt.show()"
   ]
  },
  {
   "cell_type": "code",
   "execution_count": 8,
   "id": "f15c3d3a",
   "metadata": {},
   "outputs": [
    {
     "data": {
      "image/png": "[encoded data removed]",
      "text/plain": [
       "<Figure size 432x288 with 1 Axes>"
      ]
     },
     "metadata": {
      "needs_background": "light"
     },
     "output_type": "display_data"
    }
   ],
   "source": [
    "bins = np.linspace(0.5, 1.0, 20)\n",
    "figure = plt.figure()\n",
    "plt.hist(unigram_score, bins, alpha=0.5, label='single word', density=True)\n",
    "plt.hist([x for x in multiword_score if x > 0.5], bins, alpha=0.5, label='multi words', density=True)\n",
    "plt.legend(loc='upper right')\n",
    "plt.title('Score Disribution of Phrases Detected (Normalized)')\n",
    "plt.xlabel('score')\n",
    "plt.ylabel('density')\n",
    "plt.show()"
   ]
  },
  {
   "cell_type": "markdown",
   "id": "af20cea6",
   "metadata": {},
   "source": [
    "## Human Labeling Precision-Recall"
   ]
  },
  {
   "cell_type": "code",
   "execution_count": 37,
   "id": "52770e82",
   "metadata": {},
   "outputs": [],
   "source": [
    "def score_text_split(line):\n",
    "    parts = line.split()\n",
    "    return \" \".join(parts[1:]), float(parts[0])\n",
    "\n",
    "file = '../results/AutoPhrase.txt'\n",
    "with open(file) as f:\n",
    "        txt = f.readlines()\n",
    "phrases = []\n",
    "scores = []\n",
    "for line in txt:\n",
    "    phrase, score = score_text_split(line)\n",
    "    phrases.append(phrase)\n",
    "    scores.append(score)\n",
    "score_dict = dict(zip(phrases,scores))"
   ]
  },
  {
   "cell_type": "code",
   "execution_count": 38,
   "id": "96335cd0",
   "metadata": {},
   "outputs": [],
   "source": [
    "# Output randomly selected phrases for human annotation, run only once\n",
    "# random_phrases = np.random.choice(phrases, 100)\n",
    "# file = '../results/human_annotation.txt'\n",
    "# with open(file, 'w') as f:\n",
    "#         for phrase in random_phrases:\n",
    "#             f.write(phrase + \", \\n\")"
   ]
  },
  {
   "cell_type": "code",
   "execution_count": 39,
   "id": "35a3398d",
   "metadata": {},
   "outputs": [],
   "source": [
    "file = '../results/human_annotation.txt'\n",
    "with open(file) as f:\n",
    "    human_labels = f.readlines()"
   ]
  },
  {
   "cell_type": "code",
   "execution_count": 40,
   "id": "ca47deb1",
   "metadata": {},
   "outputs": [],
   "source": [
    "phrases = []\n",
    "labels = []\n",
    "for line in human_labels:\n",
    "    phrase, label = line.split(',')\n",
    "    phrases.append(phrase)\n",
    "    labels.append(int(label.split()[0]))\n",
    "labels = np.array(labels)\n",
    "scores = np.array([score_dict[x] for x in phrases])"
   ]
  },
  {
   "cell_type": "code",
   "execution_count": 46,
   "id": "6d1a3670",
   "metadata": {},
   "outputs": [],
   "source": [
    "precisions = []\n",
    "recalls = []\n",
    "AUC = []\n",
    "for threshold in np.arange(0.01, 0.95, 0.01):\n",
    "    prediction = np.where(scores > threshold, 1, 0)\n",
    "    true_positive = labels * prediction\n",
    "    precision = true_positive.sum() / (prediction.sum() + 1e-5)\n",
    "    recall = true_positive.sum() / (labels.sum() + 1e-5)\n",
    "    precisions.append(precision)\n",
    "    recalls.append(recall)\n",
    "    AUC.append(precision * recall)"
   ]
  },
  {
   "cell_type": "code",
   "execution_count": 47,
   "id": "b4152242",
   "metadata": {},
   "outputs": [
    {
     "data": {
      "image/png": "[encoded data removed]",
      "text/plain": [
       "<Figure size 432x288 with 1 Axes>"
      ]
     },
     "metadata": {
      "needs_background": "light"
     },
     "output_type": "display_data"
    }
   ],
   "source": [
    "figure = plt.figure()\n",
    "plt.plot(recalls, precisions)\n",
    "plt.title('Human Annotated Precision-Recall Test (N=100)')\n",
    "plt.xlabel('precision')\n",
    "plt.ylabel('recall')\n",
    "plt.xlim(0,1.05)\n",
    "plt.ylim(0,1.05)\n",
    "plt.show()"
   ]
  },
  {
   "cell_type": "code",
   "execution_count": 48,
   "id": "7ff0c485",
   "metadata": {
    "scrolled": true
   },
   "outputs": [
    {
     "data": {
      "image/png": "[encoded data removed]",
      "text/plain": [
       "<Figure size 432x288 with 1 Axes>"
      ]
     },
     "metadata": {
      "needs_background": "light"
     },
     "output_type": "display_data"
    }
   ],
   "source": [
    "figure = plt.figure()\n",
    "plt.plot(np.arange(0.01, 0.95, 0.01), AUC)\n",
    "plt.title('Area Under the Curve (N=100)')\n",
    "plt.xlabel('threshold')\n",
    "plt.ylabel('AUC')\n",
    "plt.xlim(0,1.05)\n",
    "plt.ylim(0,1.05)\n",
    "plt.show()"
   ]
  },
  {
   "cell_type": "code",
   "execution_count": null,
   "id": "b388fe42",
   "metadata": {},
   "outputs": [],
   "source": []
  },
  {
   "cell_type": "code",
   "execution_count": null,
   "id": "9e6e0800",
   "metadata": {},
   "outputs": [],
   "source": []
  }
 ],
 "metadata": {
  "kernelspec": {
   "display_name": "Python 3",
   "language": "python",
   "name": "python3"
  },
  "language_info": {
   "codemirror_mode": {
    "name": "ipython",
    "version": 3
   },
   "file_extension": ".py",
   "mimetype": "text/x-python",
   "name": "python",
   "nbconvert_exporter": "python",
   "pygments_lexer": "ipython3",
   "version": "3.8.8"
  }
 },
 "nbformat": 4,
 "nbformat_minor": 5
}
